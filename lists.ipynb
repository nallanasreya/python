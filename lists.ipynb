{
  "nbformat": 4,
  "nbformat_minor": 0,
  "metadata": {
    "colab": {
      "name": "lists.ipynb",
      "provenance": [],
      "authorship_tag": "ABX9TyPuxDoOoG4ToiH+SKFA7+T+",
      "include_colab_link": true
    },
    "kernelspec": {
      "name": "python3",
      "display_name": "Python 3"
    },
    "language_info": {
      "name": "python"
    }
  },
  "cells": [
    {
      "cell_type": "markdown",
      "metadata": {
        "id": "view-in-github",
        "colab_type": "text"
      },
      "source": [
        "<a href=\"https://colab.research.google.com/github/nallanasreya/python/blob/main/lists.ipynb\" target=\"_parent\"><img src=\"https://colab.research.google.com/assets/colab-badge.svg\" alt=\"Open In Colab\"/></a>"
      ]
    },
    {
      "cell_type": "code",
      "source": [
        "fruit=['apple','bannana','orange','mango','watermelon']\n",
        "print (fruit[0])"
      ],
      "metadata": {
        "colab": {
          "base_uri": "https://localhost:8080/"
        },
        "id": "UCQltM3g4v45",
        "outputId": "ca616408-5582-4646-f5b9-b9937036d927"
      },
      "execution_count": 4,
      "outputs": [
        {
          "output_type": "stream",
          "name": "stdout",
          "text": [
            "apple\n"
          ]
        }
      ]
    },
    {
      "cell_type": "code",
      "source": [
        "fruit=['apple','bannana','orange','mango','watermelon']\n",
        "print(fruit[0:2])\n",
        "print(fruit[-1])\n",
        "print(fruit[3:])\n",
        "print(fruit[-2:])"
      ],
      "metadata": {
        "colab": {
          "base_uri": "https://localhost:8080/"
        },
        "id": "l1TN8sNI55Qr",
        "outputId": "a59fb7ef-794a-484c-ddc2-3dbdfc49715a"
      },
      "execution_count": 12,
      "outputs": [
        {
          "output_type": "stream",
          "name": "stdout",
          "text": [
            "['apple', 'bannana']\n",
            "watermelon\n",
            "['mango', 'watermelon']\n",
            "['mango', 'watermelon']\n"
          ]
        }
      ]
    }
  ]
}