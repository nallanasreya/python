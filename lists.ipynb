{
  "nbformat": 4,
  "nbformat_minor": 0,
  "metadata": {
    "colab": {
      "name": "lists.ipynb",
      "provenance": [],
      "authorship_tag": "ABX9TyNsHKDbNw+zNrlM0QeTg1xx",
      "include_colab_link": true
    },
    "kernelspec": {
      "name": "python3",
      "display_name": "Python 3"
    },
    "language_info": {
      "name": "python"
    }
  },
  "cells": [
    {
      "cell_type": "markdown",
      "metadata": {
        "id": "view-in-github",
        "colab_type": "text"
      },
      "source": [
        "<a href=\"https://colab.research.google.com/github/nallanasreya/python/blob/main/lists.ipynb\" target=\"_parent\"><img src=\"https://colab.research.google.com/assets/colab-badge.svg\" alt=\"Open In Colab\"/></a>"
      ]
    },
    {
      "cell_type": "code",
      "source": [
        "fruit=['apple','bannana','orange','mango','watermelon']\n",
        "print (fruit[0])"
      ],
      "metadata": {
        "colab": {
          "base_uri": "https://localhost:8080/"
        },
        "id": "UCQltM3g4v45",
        "outputId": "ca616408-5582-4646-f5b9-b9937036d927"
      },
      "execution_count": null,
      "outputs": [
        {
          "output_type": "stream",
          "name": "stdout",
          "text": [
            "apple\n"
          ]
        }
      ]
    },
    {
      "cell_type": "code",
      "source": [
        "fruit=['apple','bannana','orange','mango','watermelon']\n",
        "print(fruit[0:2])\n",
        "print(fruit[-1])\n",
        "print(fruit[3:])\n",
        "print(fruit[-2:])"
      ],
      "metadata": {
        "colab": {
          "base_uri": "https://localhost:8080/"
        },
        "id": "l1TN8sNI55Qr",
        "outputId": "a59fb7ef-794a-484c-ddc2-3dbdfc49715a"
      },
      "execution_count": null,
      "outputs": [
        {
          "output_type": "stream",
          "name": "stdout",
          "text": [
            "['apple', 'bannana']\n",
            "watermelon\n",
            "['mango', 'watermelon']\n",
            "['mango', 'watermelon']\n"
          ]
        }
      ]
    },
    {
      "cell_type": "code",
      "source": [
        "x = [11,23.45,'hello','a',True]\n",
        "print(x)\n",
        "x[4] = False\n",
        "print(x)\n"
      ],
      "metadata": {
        "colab": {
          "base_uri": "https://localhost:8080/"
        },
        "id": "AVgzRrcXauz2",
        "outputId": "b47fd3c1-39f8-4ecc-e28c-4b3235b3c266"
      },
      "execution_count": 1,
      "outputs": [
        {
          "output_type": "stream",
          "name": "stdout",
          "text": [
            "[11, 23.45, 'hello', 'a', True]\n",
            "[11, 23.45, 'hello', 'a', False]\n"
          ]
        }
      ]
    },
    {
      "cell_type": "code",
      "source": [
        "x = [11,23.45,'hello','a',True]\n",
        "print(x)\n",
        "x.insert(2,1000)\n",
        "print(x)"
      ],
      "metadata": {
        "colab": {
          "base_uri": "https://localhost:8080/"
        },
        "id": "7Pk_F40ZbCYx",
        "outputId": "9e20fd3f-07ba-4d11-f399-98c9ee0eb216"
      },
      "execution_count": 2,
      "outputs": [
        {
          "output_type": "stream",
          "name": "stdout",
          "text": [
            "[11, 23.45, 'hello', 'a', True]\n",
            "[11, 23.45, 1000, 'hello', 'a', True]\n"
          ]
        }
      ]
    },
    {
      "cell_type": "code",
      "source": [
        "x = [11,23.45,'hello','a',True]\n",
        "print(x)\n",
        "print(x.pop())\n",
        "print(x)"
      ],
      "metadata": {
        "colab": {
          "base_uri": "https://localhost:8080/"
        },
        "id": "J-a17kMebNkf",
        "outputId": "81694ad1-61bc-499c-f620-b8f70903dbc9"
      },
      "execution_count": 3,
      "outputs": [
        {
          "output_type": "stream",
          "name": "stdout",
          "text": [
            "[11, 23.45, 'hello', 'a', True]\n",
            "True\n",
            "[11, 23.45, 'hello', 'a']\n"
          ]
        }
      ]
    },
    {
      "cell_type": "code",
      "source": [
        "x = [11,23.45,'hello','a',True]\n",
        "print(x)\n",
        "y = x.pop(1)\n",
        "print(x)\n",
        "print(\"Deleted element: \", y)"
      ],
      "metadata": {
        "colab": {
          "base_uri": "https://localhost:8080/"
        },
        "id": "JZ96UnSVbXKB",
        "outputId": "fec22cfb-2396-4cbf-e2d6-7b738d7a9072"
      },
      "execution_count": 4,
      "outputs": [
        {
          "output_type": "stream",
          "name": "stdout",
          "text": [
            "[11, 23.45, 'hello', 'a', True]\n",
            "[11, 'hello', 'a', True]\n",
            "Deleted element:  23.45\n"
          ]
        }
      ]
    },
    {
      "cell_type": "code",
      "source": [
        "x = [11,23.45,'hello','a',True]\n",
        "\n",
        "print(x)\n",
        "x.remove('a')\n",
        "print(x)"
      ],
      "metadata": {
        "colab": {
          "base_uri": "https://localhost:8080/"
        },
        "id": "XF7zHy7Wbgip",
        "outputId": "a4b2f14f-650a-48b0-fe8c-75940e39118b"
      },
      "execution_count": 5,
      "outputs": [
        {
          "output_type": "stream",
          "name": "stdout",
          "text": [
            "[11, 23.45, 'hello', 'a', True]\n",
            "[11, 23.45, 'hello', True]\n"
          ]
        }
      ]
    },
    {
      "cell_type": "code",
      "source": [
        "x = [11,23.45,'hello','a',True]\n",
        "print(x)\n",
        "print(x.index('hello'))"
      ],
      "metadata": {
        "colab": {
          "base_uri": "https://localhost:8080/"
        },
        "id": "w_1iNGPIbtAn",
        "outputId": "a8953cd7-1939-410f-cbe8-1e4729aafbf7"
      },
      "execution_count": 6,
      "outputs": [
        {
          "output_type": "stream",
          "name": "stdout",
          "text": [
            "[11, 23.45, 'hello', 'a', True]\n",
            "2\n"
          ]
        }
      ]
    },
    {
      "cell_type": "code",
      "source": [
        "x = [11,23.45,'hello','a',True]\n",
        "\n",
        "print(x)\n",
        "x.remove('a')\n",
        "print(x)"
      ],
      "metadata": {
        "colab": {
          "base_uri": "https://localhost:8080/"
        },
        "id": "qDJsJ7rrb4UX",
        "outputId": "fa206cfc-2215-4f28-e6f3-30900f63043e"
      },
      "execution_count": 7,
      "outputs": [
        {
          "output_type": "stream",
          "name": "stdout",
          "text": [
            "[11, 23.45, 'hello', 'a', True]\n",
            "[11, 23.45, 'hello', True]\n"
          ]
        }
      ]
    }
  ]
}