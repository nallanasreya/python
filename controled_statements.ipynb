{
  "nbformat": 4,
  "nbformat_minor": 0,
  "metadata": {
    "colab": {
      "name": "controled_statements.ipynb",
      "provenance": [],
      "collapsed_sections": [],
      "authorship_tag": "ABX9TyPOziQBcVHTxIbbUazNOEuo",
      "include_colab_link": true
    },
    "kernelspec": {
      "name": "python3",
      "display_name": "Python 3"
    },
    "language_info": {
      "name": "python"
    }
  },
  "cells": [
    {
      "cell_type": "markdown",
      "metadata": {
        "id": "view-in-github",
        "colab_type": "text"
      },
      "source": [
        "<a href=\"https://colab.research.google.com/github/nallanasreya/python/blob/main/controled_statements.ipynb\" target=\"_parent\"><img src=\"https://colab.research.google.com/assets/colab-badge.svg\" alt=\"Open In Colab\"/></a>"
      ]
    },
    {
      "cell_type": "markdown",
      "source": [
        ""
      ],
      "metadata": {
        "id": "wmKTN57qPr0x"
      }
    },
    {
      "cell_type": "markdown",
      "source": [
        "###find out the person is eligible for voting or not"
      ],
      "metadata": {
        "id": "sUhj7VFWP1SX"
      }
    },
    {
      "cell_type": "markdown",
      "source": [
        ""
      ],
      "metadata": {
        "id": "p30zzc1cP4-n"
      }
    },
    {
      "cell_type": "code",
      "source": [
        "a=int(input(\"enter the age of the person\"))\n",
        "if(a>=18):\n",
        " print(\"eligible\")\n",
        "else:\n",
        " print(\"not eligible\")\n",
        " ##dynamic"
      ],
      "metadata": {
        "colab": {
          "base_uri": "https://localhost:8080/"
        },
        "id": "hcvZeuLwP6CR",
        "outputId": "bf8e08e1-86e3-4c53-dcf5-5ce35ec51def"
      },
      "execution_count": 5,
      "outputs": [
        {
          "output_type": "stream",
          "name": "stdout",
          "text": [
            "enter the age of the person89\n",
            "eligible\n"
          ]
        }
      ]
    },
    {
      "cell_type": "markdown",
      "source": [
        "find the greatest between three numbers"
      ],
      "metadata": {
        "id": "lBe3f_aDRwJe"
      }
    },
    {
      "cell_type": "code",
      "source": [
        "\n",
        "a=int(input(\"enter the 1st number\"))\n",
        "b=int(input(\"enter the 2nd number\"))\n",
        "c=int(input(\"enter the 3rd number\"))\n",
        "if(a>b)and(a>c):\n",
        " print(\"a is largest\")\n",
        "elif(b>a)and(b>c):\n",
        " print(\"b is largest\")\n",
        "else:\n",
        " print(\"c is largest\")\n"
      ],
      "metadata": {
        "colab": {
          "base_uri": "https://localhost:8080/"
        },
        "id": "meW9KQczR1oG",
        "outputId": "a7d3526c-7b71-4d0b-b415-f7caf0f998b1"
      },
      "execution_count": 9,
      "outputs": [
        {
          "output_type": "stream",
          "name": "stdout",
          "text": [
            "enter the 1st number67\n",
            "enter the 2nd number90\n",
            "enter the 3rd number45\n",
            "b is largest\n"
          ]
        }
      ]
    },
    {
      "cell_type": "code",
      "source": [
        ""
      ],
      "metadata": {
        "id": "Uv6gJFcJdPy9"
      },
      "execution_count": null,
      "outputs": []
    },
    {
      "cell_type": "markdown",
      "source": [
        "give 5 subjects marks and predict the highest mark"
      ],
      "metadata": {
        "id": "PSy7Yk-iT9_2"
      }
    },
    {
      "cell_type": "code",
      "source": [
        "a=int(input(\"enter marks of 1st subject\"))\n",
        "b=int(input(\"enter marks of 2nd subject\"))\n",
        "c=int(input(\"enter marks of 3rd subject\"))\n",
        "d=int(input(\"enter marks of 4th subject\"))\n",
        "e=int(input(\"enter marks of 5th subject\"))\n",
        "if(a>b)and(a>c)and(a>d)and(a>e):\n",
        "  print(\"a is max mark\")\n",
        "elif(b>a)and(b>c)and(b>d)and(b>e):\n",
        " print(\"b is max mark\")\n",
        "elif(c>a)and(c>b)and(c>d)and(c>e):\n",
        " print(\"c is max mark\")\n",
        "elif(d>a)and(d>c)and(d>b)and(d>e):\n",
        " print(\"d is max mark\")\n",
        "else:\n",
        " print(\"e is max mark\")\n"
      ],
      "metadata": {
        "colab": {
          "base_uri": "https://localhost:8080/"
        },
        "id": "q8kF0UK7UIB1",
        "outputId": "3be60114-c3c3-4270-dfae-73337752a8a2"
      },
      "execution_count": 13,
      "outputs": [
        {
          "output_type": "stream",
          "name": "stdout",
          "text": [
            "enter marks of 1st subject45\n",
            "enter marks of 2nd subject56\n",
            "enter marks of 3rd subject67\n",
            "enter marks of 4th subject78\n",
            "enter marks of 5th subject89\n",
            "e is max mark\n"
          ]
        }
      ]
    },
    {
      "cell_type": "code",
      "source": [
        "a=int(input(\"enter the 1st number\"))\n",
        "b=int(input(\"enter the 2nd number\"))\n",
        "c=int(input(\"enter the 3rd number\"))\n",
        "if(a<b)and(a<c):\n",
        " print(\"a is min\")\n",
        "elif(b<a)and(b<c):\n",
        " print(\"b is min\")\n",
        "else:\n",
        " print(\"c is min5\")\n"
      ],
      "metadata": {
        "colab": {
          "base_uri": "https://localhost:8080/"
        },
        "id": "FBB5IFPudSGb",
        "outputId": "b73712c5-231f-44d3-91f7-8bc231a16586"
      },
      "execution_count": 14,
      "outputs": [
        {
          "output_type": "stream",
          "name": "stdout",
          "text": [
            "enter the 1st number45\n",
            "enter the 2nd number6\n",
            "enter the 3rd number7\n",
            "b is min\n"
          ]
        }
      ]
    },
    {
      "cell_type": "markdown",
      "source": [
        "# New Section"
      ],
      "metadata": {
        "id": "RtZqek2lehsB"
      }
    }
  ]
}